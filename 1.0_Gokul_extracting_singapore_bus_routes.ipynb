{
 "cells": [
  {
   "cell_type": "markdown",
   "metadata": {},
   "source": [
    "<h2> Steps for extracting bus routes </h2>\n",
    "<ul>\n",
    "<li> Get the choices(bus numbers) from the home page\n",
    "<li> Get the routes from the responses\n",
    "<li> Iteratively make requests to get the bus route\n",
    "<li> Store the results in CSV\n",
    "</ul>"
   ]
  },
  {
   "cell_type": "code",
   "execution_count": 176,
   "metadata": {},
   "outputs": [],
   "source": [
    "import requests\n",
    "import bs4\n",
    "import pandas as pd\n",
    "from tqdm import tqdm"
   ]
  },
  {
   "cell_type": "markdown",
   "metadata": {},
   "source": [
    "<h3>Get the choices(bus numbers) from the home page</h3>"
   ]
  },
  {
   "cell_type": "code",
   "execution_count": 171,
   "metadata": {
    "collapsed": true
   },
   "outputs": [],
   "source": [
    "def get_all_bus_numbers():\n",
    "    base_url = ('http://www.transitlink.com.sg'\\\n",
    "                '/eservice/eguide/service_idx.php')\n",
    "    res = requests.get(base_url)\n",
    "    soup = bs4.BeautifulSoup(res.content)\n",
    "    services = soup.find_all(\"dl\",{'class':'eguide'})\n",
    "    service_buses = {}\n",
    "    for s in services:\n",
    "        service_name = s.find_all(\"dt\")[0].text\n",
    "        options = s.find_all(\"option\")\n",
    "        bus_list = []\n",
    "        [bus_list.append(bus.text) \n",
    "        for bus in options]\n",
    "        bus_list.pop(0)\n",
    "        service_buses[service_name]=bus_list\n",
    "    return service_buses"
   ]
  },
  {
   "cell_type": "markdown",
   "metadata": {},
   "source": [
    "<h3>Get the routes from the responses\n",
    "</h3>"
   ]
  },
  {
   "cell_type": "code",
   "execution_count": 184,
   "metadata": {
    "collapsed": true
   },
   "outputs": [],
   "source": [
    "def get_bus_routes(bus_number,operator):\n",
    "    request_url = ('http://www.transitlink.com.sg'\\\n",
    "                   '/eservice/eguide/service_route.php')\n",
    "    data = {\"service\":bus_number,\"B1\":\"submit\"}\n",
    "    res = requests.post(request_url,data=data)\n",
    "    route = bs4.BeautifulSoup(res.content)\n",
    "    table = route.find_all(\"section\",{\"class\":\"eguide-table\"})[1]\n",
    "    table_rows=table.find_all(\"tr\")\n",
    "    table_data=table.find_all(\"td\")\n",
    "    route = []\n",
    "    road = \"\"\n",
    "    bus_stop_name = \"\"\n",
    "    bus_stop_no = \"\"\n",
    "    bus_stop_value = \"\"\n",
    "    distance = \"\"\n",
    "    data_flag=0\n",
    "    for data in table_data[4:]:\n",
    "        if (\"class\" in data.attrs.keys() and \n",
    "            (\"subhead2\") in data.attrs[\"class\"][0] and \n",
    "            (\"route\") not in data.attrs[\"class\"]):\n",
    "            continue\n",
    "        elif (\"class\" in data.attrs.keys() and \n",
    "              (\"subhead2\") in data.attrs[\"class\"] and \n",
    "              (\"route\") in data.attrs[\"class\"]):\n",
    "            road = data.text.replace(\"•\",\"\").strip()\n",
    "        elif (\"class\" in data.attrs.keys() and \n",
    "              (\"route\") in data.attrs[\"class\"]):\n",
    "            bus_stop_name=data.text.replace(\"•\",\"\").strip()\n",
    "            if bus_stop_name!=\"\":\n",
    "                #The last row of the table also contains the same tags\n",
    "                #so checking if there is indeed a bus stop name\n",
    "                data_flag=1\n",
    "        elif data.find(\"input\") is not None:\n",
    "            bus_stop_value = data.find(\"input\").attrs[\"value\"]\n",
    "            bus_stop_no = data.text.strip()\n",
    "        else:\n",
    "            distance = data.text\n",
    "        if data_flag==1:\n",
    "            route.append({\n",
    "                \"road\":road,\n",
    "                \"bus_stop_name\":bus_stop_name,\n",
    "                \"bus_stop_value\":bus_stop_value,\n",
    "                \"bus_stop_no\":bus_stop_no,\n",
    "                \"distance\":distance,\n",
    "                \"bus_number\":bus_number,\n",
    "                \"operator\":operator\n",
    "                })\n",
    "            data_flag=0\n",
    "    return route"
   ]
  },
  {
   "cell_type": "markdown",
   "metadata": {},
   "source": [
    "<h3>Iteratively make requests to get the bus route</h3>"
   ]
  },
  {
   "cell_type": "code",
   "execution_count": 185,
   "metadata": {},
   "outputs": [
    {
     "name": "stderr",
     "output_type": "stream",
     "text": [
      "/Users/Gokul/anaconda/envs/kaggle/lib/python3.6/site-packages/bs4/__init__.py:181: UserWarning: No parser was explicitly specified, so I'm using the best available HTML parser for this system (\"lxml\"). This usually isn't a problem, but if you run this code on another system, or in a different virtual environment, it may use a different parser and behave differently.\n",
      "\n",
      "The code that caused this warning is on line 193 of the file /Users/Gokul/anaconda/envs/kaggle/lib/python3.6/runpy.py. To get rid of this warning, change code that looks like this:\n",
      "\n",
      " BeautifulSoup(YOUR_MARKUP})\n",
      "\n",
      "to this:\n",
      "\n",
      " BeautifulSoup(YOUR_MARKUP, \"lxml\")\n",
      "\n",
      "  markup_type=markup_type))\n",
      "100%|██████████| 4/4 [01:49<00:00, 30.58s/it]\n"
     ]
    }
   ],
   "source": [
    "all_routes = []\n",
    "bus_numbers = get_all_bus_numbers()\n",
    "for k,v in tqdm(bus_numbers.items()):\n",
    "    [ all_routes.extend(get_bus_routes(bus,k))\n",
    "     for bus in v]"
   ]
  },
  {
   "cell_type": "markdown",
   "metadata": {},
   "source": [
    "<h3>Store the results in CSV</h3>"
   ]
  },
  {
   "cell_type": "code",
   "execution_count": 188,
   "metadata": {
    "collapsed": true
   },
   "outputs": [],
   "source": [
    "bus_routes = pd.DataFrame(all_routes)"
   ]
  },
  {
   "cell_type": "code",
   "execution_count": 189,
   "metadata": {},
   "outputs": [
    {
     "data": {
      "text/html": [
       "<div>\n",
       "<style>\n",
       "    .dataframe thead tr:only-child th {\n",
       "        text-align: right;\n",
       "    }\n",
       "\n",
       "    .dataframe thead th {\n",
       "        text-align: left;\n",
       "    }\n",
       "\n",
       "    .dataframe tbody tr th {\n",
       "        vertical-align: top;\n",
       "    }\n",
       "</style>\n",
       "<table border=\"1\" class=\"dataframe\">\n",
       "  <thead>\n",
       "    <tr style=\"text-align: right;\">\n",
       "      <th></th>\n",
       "      <th>bus_number</th>\n",
       "      <th>bus_stop_name</th>\n",
       "      <th>bus_stop_no</th>\n",
       "      <th>bus_stop_value</th>\n",
       "      <th>distance</th>\n",
       "      <th>operator</th>\n",
       "      <th>road</th>\n",
       "    </tr>\n",
       "  </thead>\n",
       "  <tbody>\n",
       "    <tr>\n",
       "      <th>0</th>\n",
       "      <td>4</td>\n",
       "      <td>Tampines Int</td>\n",
       "      <td>75009</td>\n",
       "      <td>6822</td>\n",
       "      <td>0.0</td>\n",
       "      <td>SBS Transit</td>\n",
       "      <td>Tampines Ctrl 1</td>\n",
       "    </tr>\n",
       "    <tr>\n",
       "      <th>1</th>\n",
       "      <td>4</td>\n",
       "      <td>Opp Tampines Reg Lib</td>\n",
       "      <td>76191</td>\n",
       "      <td>4546</td>\n",
       "      <td>0.5</td>\n",
       "      <td>SBS Transit</td>\n",
       "      <td>Tampines Ave 7</td>\n",
       "    </tr>\n",
       "    <tr>\n",
       "      <th>2</th>\n",
       "      <td>4</td>\n",
       "      <td>Blk 423</td>\n",
       "      <td>76201</td>\n",
       "      <td>4548</td>\n",
       "      <td>0.8</td>\n",
       "      <td>SBS Transit</td>\n",
       "      <td>Tampines Ave 7</td>\n",
       "    </tr>\n",
       "  </tbody>\n",
       "</table>\n",
       "</div>"
      ],
      "text/plain": [
       "  bus_number         bus_stop_name bus_stop_no bus_stop_value distance  \\\n",
       "0          4          Tampines Int       75009           6822      0.0   \n",
       "1          4  Opp Tampines Reg Lib       76191           4546      0.5   \n",
       "2          4               Blk 423       76201           4548      0.8   \n",
       "\n",
       "      operator             road  \n",
       "0  SBS Transit  Tampines Ctrl 1  \n",
       "1  SBS Transit   Tampines Ave 7  \n",
       "2  SBS Transit   Tampines Ave 7  "
      ]
     },
     "execution_count": 189,
     "metadata": {},
     "output_type": "execute_result"
    }
   ],
   "source": [
    "bus_routes.head(3)"
   ]
  },
  {
   "cell_type": "code",
   "execution_count": 190,
   "metadata": {
    "collapsed": true
   },
   "outputs": [],
   "source": [
    "bus_routes.to_csv(\"sg_bus_routes.csv\",index=False)"
   ]
  }
 ],
 "metadata": {
  "kernelspec": {
   "display_name": "Python 3",
   "language": "python",
   "name": "python3"
  },
  "language_info": {
   "codemirror_mode": {
    "name": "ipython",
    "version": 3
   },
   "file_extension": ".py",
   "mimetype": "text/x-python",
   "name": "python",
   "nbconvert_exporter": "python",
   "pygments_lexer": "ipython3",
   "version": "3.6.1"
  }
 },
 "nbformat": 4,
 "nbformat_minor": 2
}
